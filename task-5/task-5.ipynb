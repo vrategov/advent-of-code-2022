{
 "cells": [
  {
   "cell_type": "code",
   "execution_count": 1,
   "id": "48d77662",
   "metadata": {},
   "outputs": [],
   "source": [
    "import pandas as pd\n",
    "import numpy as np"
   ]
  },
  {
   "cell_type": "markdown",
   "id": "8dc9a100",
   "metadata": {},
   "source": [
    "# Part One"
   ]
  },
  {
   "cell_type": "code",
   "execution_count": 2,
   "id": "f06cf721",
   "metadata": {},
   "outputs": [],
   "source": [
    "# Before reading the file I did some manual edits in the text file \n",
    "# I've replaced the pattern '    [' with '[],['\n",
    "# I've replaced the pattern ']    ' with '],[]'\n",
    "# I've replaced the pattern '    ' with ',[]'\n",
    "# I've replaced the pttern ' ' with ','"
   ]
  },
  {
   "cell_type": "code",
   "execution_count": 3,
   "id": "2e0a4676",
   "metadata": {},
   "outputs": [],
   "source": [
    "decks = pd.read_csv(\"./input.txt\", header=None, nrows=8, na_values='[]')\n",
    "# add 1 to indeces to match the input definition\n",
    "decks.columns = decks.columns + 1\n",
    "decks.index = decks.index + 1"
   ]
  },
  {
   "cell_type": "code",
   "execution_count": 4,
   "id": "200380cd",
   "metadata": {},
   "outputs": [
    {
     "data": {
      "text/html": [
       "<div>\n",
       "<style scoped>\n",
       "    .dataframe tbody tr th:only-of-type {\n",
       "        vertical-align: middle;\n",
       "    }\n",
       "\n",
       "    .dataframe tbody tr th {\n",
       "        vertical-align: top;\n",
       "    }\n",
       "\n",
       "    .dataframe thead th {\n",
       "        text-align: right;\n",
       "    }\n",
       "</style>\n",
       "<table border=\"1\" class=\"dataframe\">\n",
       "  <thead>\n",
       "    <tr style=\"text-align: right;\">\n",
       "      <th></th>\n",
       "      <th>1</th>\n",
       "      <th>2</th>\n",
       "      <th>3</th>\n",
       "      <th>4</th>\n",
       "      <th>5</th>\n",
       "      <th>6</th>\n",
       "      <th>7</th>\n",
       "      <th>8</th>\n",
       "      <th>9</th>\n",
       "    </tr>\n",
       "  </thead>\n",
       "  <tbody>\n",
       "    <tr>\n",
       "      <th>1</th>\n",
       "      <td>NaN</td>\n",
       "      <td>[H]</td>\n",
       "      <td>NaN</td>\n",
       "      <td>NaN</td>\n",
       "      <td>[D]</td>\n",
       "      <td>NaN</td>\n",
       "      <td>[P]</td>\n",
       "      <td>NaN</td>\n",
       "      <td>NaN</td>\n",
       "    </tr>\n",
       "    <tr>\n",
       "      <th>2</th>\n",
       "      <td>[W]</td>\n",
       "      <td>[B]</td>\n",
       "      <td>NaN</td>\n",
       "      <td>NaN</td>\n",
       "      <td>[C]</td>\n",
       "      <td>[Z]</td>\n",
       "      <td>[D]</td>\n",
       "      <td>NaN</td>\n",
       "      <td>NaN</td>\n",
       "    </tr>\n",
       "    <tr>\n",
       "      <th>3</th>\n",
       "      <td>[T]</td>\n",
       "      <td>[J]</td>\n",
       "      <td>NaN</td>\n",
       "      <td>[T]</td>\n",
       "      <td>[J]</td>\n",
       "      <td>[D]</td>\n",
       "      <td>[J]</td>\n",
       "      <td>NaN</td>\n",
       "      <td>NaN</td>\n",
       "    </tr>\n",
       "    <tr>\n",
       "      <th>4</th>\n",
       "      <td>[H]</td>\n",
       "      <td>[Z]</td>\n",
       "      <td>NaN</td>\n",
       "      <td>[H]</td>\n",
       "      <td>[H]</td>\n",
       "      <td>[W]</td>\n",
       "      <td>[S]</td>\n",
       "      <td>NaN</td>\n",
       "      <td>[M]</td>\n",
       "    </tr>\n",
       "    <tr>\n",
       "      <th>5</th>\n",
       "      <td>[P]</td>\n",
       "      <td>[F]</td>\n",
       "      <td>[R]</td>\n",
       "      <td>[P]</td>\n",
       "      <td>[Z]</td>\n",
       "      <td>[F]</td>\n",
       "      <td>[W]</td>\n",
       "      <td>NaN</td>\n",
       "      <td>[F]</td>\n",
       "    </tr>\n",
       "    <tr>\n",
       "      <th>6</th>\n",
       "      <td>[J]</td>\n",
       "      <td>[V]</td>\n",
       "      <td>[T]</td>\n",
       "      <td>[N]</td>\n",
       "      <td>[F]</td>\n",
       "      <td>[G]</td>\n",
       "      <td>[Z]</td>\n",
       "      <td>[S]</td>\n",
       "      <td>[S]</td>\n",
       "    </tr>\n",
       "    <tr>\n",
       "      <th>7</th>\n",
       "      <td>[C]</td>\n",
       "      <td>[R]</td>\n",
       "      <td>[P]</td>\n",
       "      <td>[S]</td>\n",
       "      <td>[V]</td>\n",
       "      <td>[M]</td>\n",
       "      <td>[V]</td>\n",
       "      <td>[D]</td>\n",
       "      <td>[Z]</td>\n",
       "    </tr>\n",
       "    <tr>\n",
       "      <th>8</th>\n",
       "      <td>[F]</td>\n",
       "      <td>[G]</td>\n",
       "      <td>[H]</td>\n",
       "      <td>[Z]</td>\n",
       "      <td>[N]</td>\n",
       "      <td>[P]</td>\n",
       "      <td>[M]</td>\n",
       "      <td>[N]</td>\n",
       "      <td>[D]</td>\n",
       "    </tr>\n",
       "  </tbody>\n",
       "</table>\n",
       "</div>"
      ],
      "text/plain": [
       "     1    2    3    4    5    6    7    8    9\n",
       "1  NaN  [H]  NaN  NaN  [D]  NaN  [P]  NaN  NaN\n",
       "2  [W]  [B]  NaN  NaN  [C]  [Z]  [D]  NaN  NaN\n",
       "3  [T]  [J]  NaN  [T]  [J]  [D]  [J]  NaN  NaN\n",
       "4  [H]  [Z]  NaN  [H]  [H]  [W]  [S]  NaN  [M]\n",
       "5  [P]  [F]  [R]  [P]  [Z]  [F]  [W]  NaN  [F]\n",
       "6  [J]  [V]  [T]  [N]  [F]  [G]  [Z]  [S]  [S]\n",
       "7  [C]  [R]  [P]  [S]  [V]  [M]  [V]  [D]  [Z]\n",
       "8  [F]  [G]  [H]  [Z]  [N]  [P]  [M]  [N]  [D]"
      ]
     },
     "execution_count": 4,
     "metadata": {},
     "output_type": "execute_result"
    }
   ],
   "source": [
    "decks"
   ]
  },
  {
   "cell_type": "code",
   "execution_count": 5,
   "id": "7f040a19",
   "metadata": {},
   "outputs": [],
   "source": [
    "decks_dict = {column: decks[column].dropna().iloc[::-1].to_list() for column in decks.columns}"
   ]
  },
  {
   "cell_type": "code",
   "execution_count": 6,
   "id": "f6baa11c",
   "metadata": {},
   "outputs": [],
   "source": [
    "moves = pd.read_csv('./input.txt', header=None, skiprows=10)"
   ]
  },
  {
   "cell_type": "code",
   "execution_count": 7,
   "id": "36b25bcc",
   "metadata": {},
   "outputs": [
    {
     "data": {
      "text/html": [
       "<div>\n",
       "<style scoped>\n",
       "    .dataframe tbody tr th:only-of-type {\n",
       "        vertical-align: middle;\n",
       "    }\n",
       "\n",
       "    .dataframe tbody tr th {\n",
       "        vertical-align: top;\n",
       "    }\n",
       "\n",
       "    .dataframe thead th {\n",
       "        text-align: right;\n",
       "    }\n",
       "</style>\n",
       "<table border=\"1\" class=\"dataframe\">\n",
       "  <thead>\n",
       "    <tr style=\"text-align: right;\">\n",
       "      <th></th>\n",
       "      <th>0</th>\n",
       "      <th>1</th>\n",
       "      <th>2</th>\n",
       "      <th>3</th>\n",
       "      <th>4</th>\n",
       "      <th>5</th>\n",
       "    </tr>\n",
       "  </thead>\n",
       "  <tbody>\n",
       "    <tr>\n",
       "      <th>0</th>\n",
       "      <td>move</td>\n",
       "      <td>2</td>\n",
       "      <td>from</td>\n",
       "      <td>8</td>\n",
       "      <td>to</td>\n",
       "      <td>2</td>\n",
       "    </tr>\n",
       "    <tr>\n",
       "      <th>1</th>\n",
       "      <td>move</td>\n",
       "      <td>3</td>\n",
       "      <td>from</td>\n",
       "      <td>9</td>\n",
       "      <td>to</td>\n",
       "      <td>2</td>\n",
       "    </tr>\n",
       "    <tr>\n",
       "      <th>2</th>\n",
       "      <td>move</td>\n",
       "      <td>1</td>\n",
       "      <td>from</td>\n",
       "      <td>3</td>\n",
       "      <td>to</td>\n",
       "      <td>8</td>\n",
       "    </tr>\n",
       "    <tr>\n",
       "      <th>3</th>\n",
       "      <td>move</td>\n",
       "      <td>5</td>\n",
       "      <td>from</td>\n",
       "      <td>1</td>\n",
       "      <td>to</td>\n",
       "      <td>7</td>\n",
       "    </tr>\n",
       "    <tr>\n",
       "      <th>4</th>\n",
       "      <td>move</td>\n",
       "      <td>2</td>\n",
       "      <td>from</td>\n",
       "      <td>9</td>\n",
       "      <td>to</td>\n",
       "      <td>2</td>\n",
       "    </tr>\n",
       "  </tbody>\n",
       "</table>\n",
       "</div>"
      ],
      "text/plain": [
       "      0  1     2  3   4  5\n",
       "0  move  2  from  8  to  2\n",
       "1  move  3  from  9  to  2\n",
       "2  move  1  from  3  to  8\n",
       "3  move  5  from  1  to  7\n",
       "4  move  2  from  9  to  2"
      ]
     },
     "execution_count": 7,
     "metadata": {},
     "output_type": "execute_result"
    }
   ],
   "source": [
    "moves.head()"
   ]
  },
  {
   "cell_type": "code",
   "execution_count": 8,
   "id": "417547c9",
   "metadata": {},
   "outputs": [],
   "source": [
    "for i in range(len(moves)):\n",
    "    # get how many decks we must move\n",
    "    move_decks = moves.loc[i, 1]\n",
    "    # get from which deck we must move from\n",
    "    move_from = moves.loc[i, 3]\n",
    "    # get from which deck we must move to\n",
    "    move_to = moves.loc[i, 5]\n",
    "    {decks_dict[move_to].append(decks_dict[move_from].pop()) for _ in range(move_decks)}"
   ]
  },
  {
   "cell_type": "code",
   "execution_count": 9,
   "id": "193d943f",
   "metadata": {},
   "outputs": [
    {
     "data": {
      "text/plain": [
       "'SPFMVDTZT'"
      ]
     },
     "execution_count": 9,
     "metadata": {},
     "output_type": "execute_result"
    }
   ],
   "source": [
    "''.join(l for l in [''.join(ch for ch in value[-1] if ch.isalpha()) for value in decks_dict.values()])"
   ]
  },
  {
   "cell_type": "markdown",
   "id": "d7feadcb",
   "metadata": {},
   "source": [
    "# Part two"
   ]
  },
  {
   "cell_type": "code",
   "execution_count": 10,
   "id": "59fc9139",
   "metadata": {},
   "outputs": [],
   "source": [
    "decks_dict = {column: decks[column].dropna().iloc[::-1].to_list() for column in decks.columns}"
   ]
  },
  {
   "cell_type": "code",
   "execution_count": 11,
   "id": "03182117",
   "metadata": {},
   "outputs": [],
   "source": [
    "for i in range(len(moves)):\n",
    "    # get how many decks we must move\n",
    "    move_decks = moves.loc[i, 1]\n",
    "    # get from which deck we must move from\n",
    "    move_from = moves.loc[i, 3]\n",
    "    # get from which deck we must move to\n",
    "    move_to = moves.loc[i, 5]\n",
    "    # get the crates to move with slicing and add to the deck of the destination\n",
    "    decks_dict[move_to] = decks_dict[move_to] + decks_dict[move_from][-move_decks:]\n",
    "    # remove the moved crates from the origin\n",
    "    del decks_dict[move_from][-move_decks:]"
   ]
  },
  {
   "cell_type": "code",
   "execution_count": 12,
   "id": "795caec9",
   "metadata": {},
   "outputs": [
    {
     "data": {
      "text/plain": [
       "'ZFSJBPRFP'"
      ]
     },
     "execution_count": 12,
     "metadata": {},
     "output_type": "execute_result"
    }
   ],
   "source": [
    "''.join(l for l in [''.join(ch for ch in value[-1] if ch.isalpha()) for value in decks_dict.values()])"
   ]
  },
  {
   "cell_type": "code",
   "execution_count": null,
   "id": "2bd43393",
   "metadata": {},
   "outputs": [],
   "source": []
  }
 ],
 "metadata": {
  "kernelspec": {
   "display_name": "Python 3 (ipykernel)",
   "language": "python",
   "name": "python3"
  },
  "language_info": {
   "codemirror_mode": {
    "name": "ipython",
    "version": 3
   },
   "file_extension": ".py",
   "mimetype": "text/x-python",
   "name": "python",
   "nbconvert_exporter": "python",
   "pygments_lexer": "ipython3",
   "version": "3.8.8"
  }
 },
 "nbformat": 4,
 "nbformat_minor": 5
}
