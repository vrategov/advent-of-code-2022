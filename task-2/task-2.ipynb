{
 "cells": [
  {
   "cell_type": "code",
   "execution_count": 1,
   "id": "5eec98e7-dbe9-4869-8286-7124b6b65ab8",
   "metadata": {},
   "outputs": [],
   "source": [
    "import pandas as pd\n",
    "import numpy as np"
   ]
  },
  {
   "cell_type": "code",
   "execution_count": 2,
   "id": "7a6cfcdd-4c5e-47a5-b052-fa0fc997950f",
   "metadata": {},
   "outputs": [],
   "source": [
    "data = pd.read_csv('./input.txt', header=None, delimiter=' ', names=['opponent', 'myself'])"
   ]
  },
  {
   "cell_type": "markdown",
   "id": "613a201e-5120-41d8-9ba7-c6fe3c2ee5ee",
   "metadata": {},
   "source": [
    "# Part One"
   ]
  },
  {
   "cell_type": "code",
   "execution_count": 3,
   "id": "873ec02b-156a-4773-8a0f-ac750f8a014a",
   "metadata": {},
   "outputs": [],
   "source": [
    "def get_selection_conditions(data: pd.DataFrame,\n",
    "                             column_name: str) -> list[pd.Series]:\n",
    "    personal_condition_list = [data[column_name]=='X',\n",
    "                               data[column_name]=='Y',\n",
    "                               data[column_name]=='Z']\n",
    "    return personal_condition_list"
   ]
  },
  {
   "cell_type": "code",
   "execution_count": 4,
   "id": "329307bb-f0de-45a0-ada5-66a276e24faa",
   "metadata": {},
   "outputs": [],
   "source": [
    "def get_strategy_condistions(data: pd.DataFrame,\n",
    "                             column_name: str) -> list[pd.Series]:\n",
    "    game_condition_list = [(data[column_name] == 'X') & (data['opponent'] == 'A'),  # rock/lose vs rock\n",
    "                           (data[column_name] == 'X') & (data['opponent'] == 'B'),  # rock/lose vs paper\n",
    "                           (data[column_name] == 'X') & (data['opponent'] == 'C'),  # rock/lose vs scissors\n",
    "                           (data[column_name] == 'Y') & (data['opponent'] == 'A'),  # paper/draw vs rock                       \n",
    "                           (data[column_name] == 'Y') & (data['opponent'] == 'B'),  # paper/draw vs paper\n",
    "                           (data[column_name] == 'Y') & (data['opponent'] == 'C'),  # paper/draw vs scissors\n",
    "                           (data[column_name] == 'Z') & (data['opponent'] == 'A'),  # scissors/win vs rock\n",
    "                           (data[column_name] == 'Z') & (data['opponent'] == 'B'),  # scissors/win vs paper\n",
    "                           (data[column_name] == 'Z') & (data['opponent'] == 'C')]  # scissors/win vs scissors\n",
    "    return game_condition_list"
   ]
  },
  {
   "cell_type": "code",
   "execution_count": 5,
   "id": "3a9e7fcb-c1b1-4d44-9831-0c45b20d7618",
   "metadata": {},
   "outputs": [],
   "source": [
    "personal_condition_result = [1, 2, 3] "
   ]
  },
  {
   "cell_type": "code",
   "execution_count": 6,
   "id": "f87d08cc-080d-4e07-97f4-eb0d62096646",
   "metadata": {},
   "outputs": [],
   "source": [
    "# map the selected decision to points\n",
    "data['choice_points'] = np.select(get_selection_conditions(data=data, column_name='myself'), personal_condition_result)"
   ]
  },
  {
   "cell_type": "code",
   "execution_count": 7,
   "id": "e5a098b2-fe85-43cf-b429-8965b03add97",
   "metadata": {},
   "outputs": [],
   "source": [
    "game_condition_result = [3, 0, 6, 6, 3, 0, 0, 6, 3]"
   ]
  },
  {
   "cell_type": "code",
   "execution_count": 8,
   "id": "c82827f9-6320-4101-96b2-c008f1d7e439",
   "metadata": {},
   "outputs": [],
   "source": [
    "# map the game results to the points\n",
    "data['game_result_points'] = np.select(get_strategy_condistions(data=data, column_name='myself'), game_condition_result)"
   ]
  },
  {
   "cell_type": "code",
   "execution_count": 9,
   "id": "a2d27f86-0f0b-4db8-a813-47f4dfaf287e",
   "metadata": {},
   "outputs": [],
   "source": [
    "data['final_points'] = data['choice_points'] + data['game_result_points']"
   ]
  },
  {
   "cell_type": "code",
   "execution_count": 10,
   "id": "58a1e53e-571d-487a-b1d1-a1e033d4a65c",
   "metadata": {},
   "outputs": [
    {
     "data": {
      "text/plain": [
       "10595"
      ]
     },
     "execution_count": 10,
     "metadata": {},
     "output_type": "execute_result"
    }
   ],
   "source": [
    "data['final_points'].sum()"
   ]
  },
  {
   "cell_type": "markdown",
   "id": "e657eb53-57f7-47c8-9598-e2f5d95fb325",
   "metadata": {},
   "source": [
    "# Part Two"
   ]
  },
  {
   "cell_type": "code",
   "execution_count": 11,
   "id": "5863aa2d-3815-401d-9802-813b72536df5",
   "metadata": {},
   "outputs": [],
   "source": [
    "actual_selection_result = ['Z', 'X', 'Y', 'X', 'Y', 'Z', 'Y', 'Z', 'X']"
   ]
  },
  {
   "cell_type": "code",
   "execution_count": 12,
   "id": "d77eeb76-4f8a-4378-9e96-27a1dec48259",
   "metadata": {},
   "outputs": [],
   "source": [
    "# update the secod strategy to decision\n",
    "data['myself'] = np.select(get_strategy_condistions(data=data, column_name='myself'), actual_selection_result)"
   ]
  },
  {
   "cell_type": "code",
   "execution_count": 13,
   "id": "2d27b631-c983-40b9-b7e5-7bd895127e67",
   "metadata": {},
   "outputs": [],
   "source": [
    "# map tge actual decision to points\n",
    "data['choice_points'] = np.select(get_selection_conditions(data=data, column_name='myself'), personal_condition_result)"
   ]
  },
  {
   "cell_type": "code",
   "execution_count": 14,
   "id": "db582fb9-09af-4699-817e-fcb6d39ac1d0",
   "metadata": {},
   "outputs": [],
   "source": [
    "# map the game results \n",
    "data['game_result_points'] = np.select(get_strategy_condistions(data=data, column_name='myself'), game_condition_result)"
   ]
  },
  {
   "cell_type": "code",
   "execution_count": 15,
   "id": "382fc355-d990-4caa-8d38-454db172eb56",
   "metadata": {},
   "outputs": [],
   "source": [
    "data['final_points'] = data['choice_points'] + data['game_result_points']"
   ]
  },
  {
   "cell_type": "code",
   "execution_count": 16,
   "id": "a950aad1-4768-44ec-9a26-c38359feb6d0",
   "metadata": {},
   "outputs": [
    {
     "data": {
      "text/html": [
       "<div>\n",
       "<style scoped>\n",
       "    .dataframe tbody tr th:only-of-type {\n",
       "        vertical-align: middle;\n",
       "    }\n",
       "\n",
       "    .dataframe tbody tr th {\n",
       "        vertical-align: top;\n",
       "    }\n",
       "\n",
       "    .dataframe thead th {\n",
       "        text-align: right;\n",
       "    }\n",
       "</style>\n",
       "<table border=\"1\" class=\"dataframe\">\n",
       "  <thead>\n",
       "    <tr style=\"text-align: right;\">\n",
       "      <th></th>\n",
       "      <th>opponent</th>\n",
       "      <th>myself</th>\n",
       "      <th>choice_points</th>\n",
       "      <th>game_result_points</th>\n",
       "      <th>final_points</th>\n",
       "    </tr>\n",
       "  </thead>\n",
       "  <tbody>\n",
       "    <tr>\n",
       "      <th>0</th>\n",
       "      <td>A</td>\n",
       "      <td>X</td>\n",
       "      <td>1</td>\n",
       "      <td>3</td>\n",
       "      <td>4</td>\n",
       "    </tr>\n",
       "    <tr>\n",
       "      <th>1</th>\n",
       "      <td>A</td>\n",
       "      <td>Y</td>\n",
       "      <td>2</td>\n",
       "      <td>6</td>\n",
       "      <td>8</td>\n",
       "    </tr>\n",
       "    <tr>\n",
       "      <th>2</th>\n",
       "      <td>A</td>\n",
       "      <td>Z</td>\n",
       "      <td>3</td>\n",
       "      <td>0</td>\n",
       "      <td>3</td>\n",
       "    </tr>\n",
       "    <tr>\n",
       "      <th>3</th>\n",
       "      <td>B</td>\n",
       "      <td>X</td>\n",
       "      <td>1</td>\n",
       "      <td>0</td>\n",
       "      <td>1</td>\n",
       "    </tr>\n",
       "    <tr>\n",
       "      <th>4</th>\n",
       "      <td>A</td>\n",
       "      <td>X</td>\n",
       "      <td>1</td>\n",
       "      <td>3</td>\n",
       "      <td>4</td>\n",
       "    </tr>\n",
       "  </tbody>\n",
       "</table>\n",
       "</div>"
      ],
      "text/plain": [
       "  opponent myself  choice_points  game_result_points  final_points\n",
       "0        A      X              1                   3             4\n",
       "1        A      Y              2                   6             8\n",
       "2        A      Z              3                   0             3\n",
       "3        B      X              1                   0             1\n",
       "4        A      X              1                   3             4"
      ]
     },
     "execution_count": 16,
     "metadata": {},
     "output_type": "execute_result"
    }
   ],
   "source": [
    "data.head()"
   ]
  },
  {
   "cell_type": "code",
   "execution_count": 17,
   "id": "122f92fa-c68a-470c-8a20-a78a990cf9b6",
   "metadata": {},
   "outputs": [
    {
     "data": {
      "text/plain": [
       "9541"
      ]
     },
     "execution_count": 17,
     "metadata": {},
     "output_type": "execute_result"
    }
   ],
   "source": [
    "data['final_points'].sum()"
   ]
  }
 ],
 "metadata": {
  "kernelspec": {
   "display_name": "Python [conda env:advent-of-code] *",
   "language": "python",
   "name": "conda-env-advent-of-code-py"
  },
  "language_info": {
   "codemirror_mode": {
    "name": "ipython",
    "version": 3
   },
   "file_extension": ".py",
   "mimetype": "text/x-python",
   "name": "python",
   "nbconvert_exporter": "python",
   "pygments_lexer": "ipython3",
   "version": "3.11.0"
  }
 },
 "nbformat": 4,
 "nbformat_minor": 5
}
