{
 "cells": [
  {
   "cell_type": "code",
   "execution_count": 1,
   "id": "2bae8985-aa35-4440-aca3-8ab4860dbbc0",
   "metadata": {},
   "outputs": [],
   "source": [
    "import pandas as pd"
   ]
  },
  {
   "cell_type": "code",
   "execution_count": 2,
   "id": "1cc92dbb-48c4-4bdd-84fb-6f62bddde5b9",
   "metadata": {},
   "outputs": [],
   "source": [
    "def split_section(column: pd.Series,\n",
    "                 delim: str = '-') -> pd.DataFrame:\n",
    "    \"\"\"\n",
    "    The function takes a column and split the provided range\n",
    "    in two parts - initial point and final point. \n",
    "\n",
    "    Args:\n",
    "        column: The column to split\n",
    "        delim: The delimeter for separation, defaults to '-' as per puzzle\n",
    "\n",
    "    Returns:\n",
    "        A DataFrame with two new columns\n",
    "    \"\"\"\n",
    "    return column.str.split(delim, expand=True).astype(int)"
   ]
  },
  {
   "cell_type": "code",
   "execution_count": 3,
   "id": "2d1002ec-a27e-4a5c-a856-a1617acbdfce",
   "metadata": {},
   "outputs": [],
   "source": [
    "data = pd.read_csv('./input.txt', header=None, names=['first_elf_sections', 'second_elf_sections'])"
   ]
  },
  {
   "cell_type": "markdown",
   "id": "00e9138a-24a1-416b-b983-1d401579ae36",
   "metadata": {},
   "source": [
    "# Part One"
   ]
  },
  {
   "cell_type": "code",
   "execution_count": 4,
   "id": "04c66b44-5e1a-4b07-b118-3d500160eeeb",
   "metadata": {},
   "outputs": [],
   "source": [
    "data[['first_elf_initial_section', 'first_elf_final_section']] = split_section(column=data['first_elf_sections'])"
   ]
  },
  {
   "cell_type": "code",
   "execution_count": 5,
   "id": "4bbf86ba-aaf2-483f-b446-b801563ee5fe",
   "metadata": {},
   "outputs": [],
   "source": [
    "data[['second_elf_initial_section', 'second_elf_final_section']] = split_section(column=data['second_elf_sections'])"
   ]
  },
  {
   "cell_type": "code",
   "execution_count": 6,
   "id": "1313770c-2245-485e-b723-ca8630dbe65d",
   "metadata": {},
   "outputs": [],
   "source": [
    "data['first_in_second'] = (data['first_elf_initial_section'] >= data['second_elf_initial_section']) & (data['first_elf_final_section'] <= data['second_elf_final_section'])"
   ]
  },
  {
   "cell_type": "code",
   "execution_count": 7,
   "id": "6e32a72f-22af-4194-951b-cb1027b10c8b",
   "metadata": {},
   "outputs": [],
   "source": [
    "data['second_in_first'] = (data['first_elf_initial_section'] <= data['second_elf_initial_section']) & (data['first_elf_final_section'] >= data['second_elf_final_section'])"
   ]
  },
  {
   "cell_type": "code",
   "execution_count": 8,
   "id": "cc5eafc5-3f94-4ad8-a516-f28fdcd2a961",
   "metadata": {},
   "outputs": [],
   "source": [
    "data['full_overlap'] = data['first_in_second'] | data['second_in_first']"
   ]
  },
  {
   "cell_type": "code",
   "execution_count": 9,
   "id": "27908608-4862-476d-8f80-af5ba622f738",
   "metadata": {},
   "outputs": [
    {
     "data": {
      "text/plain": [
       "483"
      ]
     },
     "execution_count": 9,
     "metadata": {},
     "output_type": "execute_result"
    }
   ],
   "source": [
    "data['full_overlap'].sum()"
   ]
  },
  {
   "cell_type": "markdown",
   "id": "132632a4-b22c-4094-bf49-477c58d5da63",
   "metadata": {},
   "source": [
    "# Part Two"
   ]
  },
  {
   "cell_type": "code",
   "execution_count": 10,
   "id": "f2133e4a-6a2f-44d7-8959-cc8c5aa9dd68",
   "metadata": {},
   "outputs": [],
   "source": [
    "first_condition = (data['second_elf_initial_section'] <= data['first_elf_final_section']) & (data['second_elf_initial_section'] >= data['first_elf_initial_section'])"
   ]
  },
  {
   "cell_type": "code",
   "execution_count": 11,
   "id": "faba9721-05fd-480c-a6ef-4a8d47168a30",
   "metadata": {},
   "outputs": [],
   "source": [
    "second_condition = (data['first_elf_initial_section'] <= data['second_elf_final_section']) & (data['first_elf_initial_section'] >= data['second_elf_initial_section'])"
   ]
  },
  {
   "cell_type": "code",
   "execution_count": 12,
   "id": "423c689b-c6fa-4ac1-addd-2060c6a6ab76",
   "metadata": {},
   "outputs": [],
   "source": [
    "data['partial_overlap'] = (first_condition) | (second_condition)"
   ]
  },
  {
   "cell_type": "code",
   "execution_count": 13,
   "id": "22f49941-a8da-4ea2-87f4-97c92b922d72",
   "metadata": {},
   "outputs": [
    {
     "data": {
      "text/plain": [
       "874"
      ]
     },
     "execution_count": 13,
     "metadata": {},
     "output_type": "execute_result"
    }
   ],
   "source": [
    "data['partial_overlap'].sum()"
   ]
  },
  {
   "cell_type": "code",
   "execution_count": null,
   "id": "2b5ed5dd-4fae-4bec-ad01-feba6bfa7402",
   "metadata": {},
   "outputs": [],
   "source": []
  }
 ],
 "metadata": {
  "kernelspec": {
   "display_name": "Python [conda env:advent-of-code] *",
   "language": "python",
   "name": "conda-env-advent-of-code-py"
  },
  "language_info": {
   "codemirror_mode": {
    "name": "ipython",
    "version": 3
   },
   "file_extension": ".py",
   "mimetype": "text/x-python",
   "name": "python",
   "nbconvert_exporter": "python",
   "pygments_lexer": "ipython3",
   "version": "3.11.0"
  }
 },
 "nbformat": 4,
 "nbformat_minor": 5
}
