{
 "cells": [
  {
   "cell_type": "code",
   "execution_count": 1,
   "id": "bb513c5a-6c1b-4e1e-9a9f-68cd20b2f1b0",
   "metadata": {},
   "outputs": [],
   "source": [
    "import pandas as pd\n",
    "import numpy as np\n",
    "import string"
   ]
  },
  {
   "cell_type": "code",
   "execution_count": 2,
   "id": "680b2aee-49b4-4467-bb9f-766fcf0d0e4d",
   "metadata": {},
   "outputs": [],
   "source": [
    "data = pd.read_csv('./input.txt', header=None, names=['rucksack_contents'])"
   ]
  },
  {
   "cell_type": "markdown",
   "id": "527cfedb-ee32-4806-89ba-4f9d4ad516e8",
   "metadata": {},
   "source": [
    "# Part One"
   ]
  },
  {
   "cell_type": "code",
   "execution_count": 3,
   "id": "47fa6b0d-debe-458a-84e6-67ec42a37618",
   "metadata": {},
   "outputs": [],
   "source": [
    "# create the mapping for the priorities according to the task description\n",
    "keys = string.ascii_letters\n",
    "keys_mapping = {keys[x]: x+1 for x in range(len(keys))}"
   ]
  },
  {
   "cell_type": "code",
   "execution_count": 4,
   "id": "06ccab18-95ea-4800-8e6a-fe3128fd4bfa",
   "metadata": {},
   "outputs": [],
   "source": [
    "data['content_length'] = data['rucksack_contents'].str.len()"
   ]
  },
  {
   "cell_type": "code",
   "execution_count": 5,
   "id": "a54ba3b3-a78e-46f3-96a5-2b07ffd9fb84",
   "metadata": {},
   "outputs": [],
   "source": [
    "# get the first half of the contents\n",
    "data['first_compartments'] = [data.loc[x, 'rucksack_contents'][:data.loc[x, 'content_length'] // 2] for x in range(len(data))]"
   ]
  },
  {
   "cell_type": "code",
   "execution_count": 6,
   "id": "cff7626c-1976-44e4-a8e7-713fc28cb8d7",
   "metadata": {},
   "outputs": [],
   "source": [
    "# get the second half of the contents\n",
    "data['second_compartments'] = [data.loc[x, 'rucksack_contents'][data.loc[x, 'content_length'] // 2:] for x in range(len(data))]"
   ]
  },
  {
   "cell_type": "code",
   "execution_count": 7,
   "id": "351467e6-0dad-42af-94c1-bf0cea6a36d0",
   "metadata": {},
   "outputs": [],
   "source": [
    "# get the intersection between the sets from the compartments\n",
    "data['common_items'] = [set(data.loc[x, 'first_compartments']).intersection(data.loc[x, 'second_compartments']) for x in range(len(data))]"
   ]
  },
  {
   "cell_type": "code",
   "execution_count": 8,
   "id": "7298afaf-07ff-4fc5-8085-ba5dc18c4289",
   "metadata": {},
   "outputs": [],
   "source": [
    "# map the common items to their priority values from the mapping dictionary\n",
    "data['priority_value'] = [keys_mapping[next(iter(data.loc[x, 'common_items']))] for x in range(len(data))]"
   ]
  },
  {
   "cell_type": "code",
   "execution_count": 9,
   "id": "03badb7f-05ed-4c0a-8024-ffb20f407a7b",
   "metadata": {},
   "outputs": [
    {
     "data": {
      "text/plain": [
       "7742"
      ]
     },
     "execution_count": 9,
     "metadata": {},
     "output_type": "execute_result"
    }
   ],
   "source": [
    "data['priority_value'].sum()"
   ]
  },
  {
   "cell_type": "markdown",
   "id": "8fe3e511-0ae1-4696-aac2-71df750bb594",
   "metadata": {},
   "source": [
    "# Part Two"
   ]
  },
  {
   "cell_type": "code",
   "execution_count": 10,
   "id": "5a38afae-9622-4000-b446-80087fdf96f1",
   "metadata": {},
   "outputs": [],
   "source": [
    "# create an id column to detect the groups\n",
    "data['groupid'] = data.index.values // 3"
   ]
  },
  {
   "cell_type": "code",
   "execution_count": 11,
   "id": "d02eb427-b527-498d-9b8a-150cc648fef3",
   "metadata": {},
   "outputs": [],
   "source": [
    "# on the row of the third elf get the content of the second elf\n",
    "data['rucksack_contents_second'] = data.groupby('groupid')['rucksack_contents'].shift(1)"
   ]
  },
  {
   "cell_type": "code",
   "execution_count": 12,
   "id": "6c3529a8-5fa8-4768-80b6-196505c855e8",
   "metadata": {},
   "outputs": [],
   "source": [
    "data['rucksack_contents_first'] = data.groupby('groupid')['rucksack_contents_second'].shift(1)"
   ]
  },
  {
   "cell_type": "code",
   "execution_count": 13,
   "id": "14b38b34-1d5d-4d13-bb0c-f58cb93067b3",
   "metadata": {},
   "outputs": [],
   "source": [
    "data = data.dropna().reset_index(drop=True).copy()"
   ]
  },
  {
   "cell_type": "code",
   "execution_count": 14,
   "id": "809bbe77-7af0-4bac-9501-240c6105a63e",
   "metadata": {},
   "outputs": [],
   "source": [
    "data['common_items_group'] = [set(data.loc[x, 'rucksack_contents']).intersection(data.loc[x, 'rucksack_contents_second']).intersection(data.loc[x, 'rucksack_contents_first']) for x in range(len(data))]"
   ]
  },
  {
   "cell_type": "code",
   "execution_count": 15,
   "id": "6334efa7-8261-4ea5-8f5f-c35775d7c50f",
   "metadata": {},
   "outputs": [],
   "source": [
    "# map the common items to their priority values from the mapping dictionary\n",
    "data['priority_value_group'] = [keys_mapping[next(iter(data.loc[x, 'common_items_group']))] for x in range(len(data))]"
   ]
  },
  {
   "cell_type": "code",
   "execution_count": 16,
   "id": "83756d77-6a62-47d6-badd-ec1aeee406ff",
   "metadata": {},
   "outputs": [
    {
     "data": {
      "text/plain": [
       "2276"
      ]
     },
     "execution_count": 16,
     "metadata": {},
     "output_type": "execute_result"
    }
   ],
   "source": [
    "data['priority_value_group'].sum()"
   ]
  }
 ],
 "metadata": {
  "kernelspec": {
   "display_name": "Python [conda env:advent-of-code] *",
   "language": "python",
   "name": "conda-env-advent-of-code-py"
  },
  "language_info": {
   "codemirror_mode": {
    "name": "ipython",
    "version": 3
   },
   "file_extension": ".py",
   "mimetype": "text/x-python",
   "name": "python",
   "nbconvert_exporter": "python",
   "pygments_lexer": "ipython3",
   "version": "3.11.0"
  }
 },
 "nbformat": 4,
 "nbformat_minor": 5
}
